{
 "cells": [
  {
   "cell_type": "code",
   "execution_count": 1,
   "metadata": {
    "collapsed": false
   },
   "outputs": [],
   "source": [
    "import numpy as np\n",
    "import math\n",
    "import matplotlib.pyplot as plt\n"
   ]
  },
  {
   "cell_type": "code",
   "execution_count": 2,
   "metadata": {
    "collapsed": false
   },
   "outputs": [],
   "source": [
    "## 배치 버전"
   ]
  },
  {
   "cell_type": "code",
   "execution_count": 3,
   "metadata": {
    "collapsed": false
   },
   "outputs": [
    {
     "name": "stdout",
     "output_type": "stream",
     "text": [
      "1.99735978281\n"
     ]
    }
   ],
   "source": [
    "def f(x):\n",
    "    w = 2.0\n",
    "    return w * x\n",
    "\n",
    "def perturb(y):\n",
    "    mu, sigma = y, 2.0\n",
    "    return np.random.normal(mu, sigma)\n",
    "\n",
    "def makeData():\n",
    "    x_list = list(np.random.uniform(0, 100, 100))\n",
    "    x_list.sort()\n",
    "    data = map(lambda x: (x, perturb(f(x))), x_list)\n",
    "    return data\n",
    "\n",
    "def gradE(data, w):\n",
    "    return sum(map(lambda (x, y): float(x * (w * x - y)), data))\n",
    "\n",
    "def updateW(data, w, eta):\n",
    "    return w - eta * gradE(data, w)\n",
    "\n",
    "data = makeData()\n",
    "def searchW():\n",
    "    ## data = makeData()\n",
    "    w = 0.0\n",
    "    eta = 1.0e-6\n",
    "\n",
    "    iter = 20\n",
    "    for i in range(iter):\n",
    "        w = updateW(data, w, eta)\n",
    "    return w\n",
    "    \n",
    "print searchW()"
   ]
  },
  {
   "cell_type": "code",
   "execution_count": 4,
   "metadata": {
    "collapsed": false
   },
   "outputs": [],
   "source": [
    "x_list = np.array(map(lambda x: x[0], data))\n",
    "y_list = np.array(map(lambda x: x[1], data))\n",
    "plt.plot(x_list, y_list)\n",
    "plt.show()"
   ]
  },
  {
   "cell_type": "code",
   "execution_count": null,
   "metadata": {
    "collapsed": false
   },
   "outputs": [],
   "source": []
  },
  {
   "cell_type": "code",
   "execution_count": 5,
   "metadata": {
    "collapsed": false
   },
   "outputs": [],
   "source": [
    "## 온라인 버전"
   ]
  },
  {
   "cell_type": "code",
   "execution_count": 6,
   "metadata": {
    "collapsed": false
   },
   "outputs": [
    {
     "name": "stdout",
     "output_type": "stream",
     "text": [
      "1.97728758694\n"
     ]
    }
   ],
   "source": [
    "def f(x):\n",
    "    w = 2.0\n",
    "    return w * x\n",
    "\n",
    "def perturb(y):\n",
    "    mu, sigma = y, 1.0\n",
    "    return np.random.normal(mu, sigma)\n",
    "\n",
    "def makeData():\n",
    "    x_list = list(np.random.uniform(0, 100, 100))\n",
    "    x_list.sort()\n",
    "    data = map(lambda x: (x, perturb(f(x))), x_list)\n",
    "    return data\n",
    "\n",
    "def gradE(example, w):\n",
    "    x, y = example\n",
    "    return float(x * (w * x - y))\n",
    "\n",
    "def updateW(example, w, eta):\n",
    "    return w - eta * gradE(example, w)\n",
    "\n",
    "def searchW():\n",
    "    data = makeData()\n",
    "    w = 0.0\n",
    "    eta = 1.0e-4\n",
    "\n",
    "    for example in data:\n",
    "        w = updateW(example, w, eta)\n",
    "    return w\n",
    "    \n",
    "print searchW()"
   ]
  },
  {
   "cell_type": "code",
   "execution_count": null,
   "metadata": {
    "collapsed": false
   },
   "outputs": [],
   "source": [
    "\n",
    "\n",
    "\n",
    "\n",
    "\n",
    "\n",
    "\n",
    "\n",
    "\n",
    "\n",
    "\n"
   ]
  },
  {
   "cell_type": "code",
   "execution_count": 7,
   "metadata": {
    "collapsed": false
   },
   "outputs": [
    {
     "name": "stdout",
     "output_type": "stream",
     "text": [
      "(2.003513580521319, 9.915637434650192)\n"
     ]
    }
   ],
   "source": [
    "def f(x):\n",
    "    w1 = 2.0\n",
    "    w2 = 10.0\n",
    "    return w1 * x + w2\n",
    "\n",
    "def perturb(y):\n",
    "    mu, sigma = y, 1.0\n",
    "    return np.random.normal(mu, sigma)\n",
    "\n",
    "def makeData():\n",
    "    x_list = list(np.random.uniform(0, 100, 100))\n",
    "    x_list.sort()\n",
    "    data = map(lambda x: (x, perturb(f(x))), x_list)\n",
    "    return data\n",
    "\n",
    "def gradE(data, w):\n",
    "    w1, w2 = w\n",
    "    return (sum(map(lambda (x, y): float(x * (w1 * x + w2 - y)), data)), sum(map(lambda (x, y): float(w1 * x + w2 - y), data)))\n",
    "\n",
    "def updateW(data, w, eta):\n",
    "    w1, w2 = w\n",
    "    eta1, eta2 = eta\n",
    "    gradE_w1, gradE_w2 = gradE(data, w)\n",
    "\n",
    "    return (w1-eta1*gradE_w1, w2-eta2*gradE_w2)\n",
    "\n",
    "def searchW():\n",
    "    data = makeData()\n",
    "    w = (0.0, 0.0)\n",
    "    eta = (1.0e-6, 1.0e-4)\n",
    "\n",
    "    iter = 10000\n",
    "    for i in range(iter):\n",
    "        w = updateW(data, w, eta)\n",
    "        ## print w\n",
    "    return w\n",
    "    \n",
    "print searchW()"
   ]
  },
  {
   "cell_type": "code",
   "execution_count": null,
   "metadata": {
    "collapsed": false
   },
   "outputs": [],
   "source": []
  },
  {
   "cell_type": "code",
   "execution_count": 8,
   "metadata": {
    "collapsed": false
   },
   "outputs": [
    {
     "name": "stdout",
     "output_type": "stream",
     "text": [
      "(1.9987803254799497, 10.099232563804138)\n"
     ]
    }
   ],
   "source": [
    "def f(x):\n",
    "    w1 = 2.0\n",
    "    w2 = 10.0\n",
    "    return w1 * x + w2\n",
    "\n",
    "def perturb(y):\n",
    "    mu, sigma = y, 1.0\n",
    "    return np.random.normal(mu, sigma)\n",
    "\n",
    "def makeData():\n",
    "    x_list = list(np.random.uniform(0, 100, 100))\n",
    "    x_list.sort()\n",
    "    data = map(lambda x: (x, perturb(f(x))), x_list)\n",
    "    return data\n",
    "\n",
    "def gradE(example, w):\n",
    "    x, y = example\n",
    "    w1, w2 = w\n",
    "    return (float(x * (w1 * x + w2 - y)), float((w1 * x + w2 - y)))\n",
    "\n",
    "def updateW(example, w, eta):\n",
    "    w1, w2 = w\n",
    "    eta1, eta2 = eta\n",
    "    gradE_w1, gradE_w2 = gradE(example, w)\n",
    "\n",
    "    return (w1-eta1*gradE_w1, w2-eta2*gradE_w2)\n",
    "\n",
    "def searchW():\n",
    "    data = makeData()\n",
    "    w = (0.0, 0.0)\n",
    "    eta = (1.0e-5, 1.0e-3)\n",
    "\n",
    "    for i in range(500):\n",
    "        for example in data:\n",
    "            w = updateW(example, w, eta)\n",
    "            ## print w\n",
    "    return w\n",
    "    \n",
    "print searchW()"
   ]
  },
  {
   "cell_type": "code",
   "execution_count": null,
   "metadata": {
    "collapsed": true
   },
   "outputs": [],
   "source": []
  }
 ],
 "metadata": {
  "kernelspec": {
   "display_name": "Python 2",
   "language": "python",
   "name": "python2"
  },
  "language_info": {
   "codemirror_mode": {
    "name": "ipython",
    "version": 2
   },
   "file_extension": ".py",
   "mimetype": "text/x-python",
   "name": "python",
   "nbconvert_exporter": "python",
   "pygments_lexer": "ipython2",
   "version": "2.7.11"
  }
 },
 "nbformat": 4,
 "nbformat_minor": 0
}
